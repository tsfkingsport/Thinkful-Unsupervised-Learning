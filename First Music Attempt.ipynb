{
 "cells": [
  {
   "cell_type": "code",
   "execution_count": 1,
   "metadata": {},
   "outputs": [
    {
     "ename": "ModuleNotFoundError",
     "evalue": "No module named 'deepmusic'",
     "output_type": "error",
     "traceback": [
      "\u001b[1;31m---------------------------------------------------------------------------\u001b[0m",
      "\u001b[1;31mModuleNotFoundError\u001b[0m                       Traceback (most recent call last)",
      "\u001b[1;32m<ipython-input-1-425b7d065733>\u001b[0m in \u001b[0;36m<module>\u001b[1;34m\u001b[0m\n\u001b[1;32m----> 1\u001b[1;33m \u001b[1;32mimport\u001b[0m \u001b[0mdeepmusic\u001b[0m\u001b[1;33m\u001b[0m\u001b[1;33m\u001b[0m\u001b[0m\n\u001b[0m",
      "\u001b[1;31mModuleNotFoundError\u001b[0m: No module named 'deepmusic'"
     ]
    }
   ],
   "source": [
    "#Dependencies\n",
    "import deepmusic.moduleloader import ModuleLoader\n",
    "#predicts next key\n",
    "from deepmusic.keyboardcell import KeyboardCell\n",
    "#encapsulate song data so we can run get_scale, get_relative_methods\n",
    "import deepmusic.songstruct as music\n",
    "import numpy as np #for random numbers\n",
    "import tensorflow as tf"
   ]
  },
  {
   "cell_type": "code",
   "execution_count": null,
   "metadata": {},
   "outputs": [],
   "source": [
    "def build_network(self):\n",
    "    #crete computation graph, encapsulates session and graph initialization\n",
    "    input_dim = ModuleLoader.batch_builders.get_module().get_input_dim()\n",
    "    \n",
    "    #note data\n",
    "    with tf.name('placeholder_inputs'):\n",
    "        self.inputs = [\n",
    "            tf.placeholder(\n",
    "            tf.float32, #numerical data\n",
    "            [self.args.batch_size, input_dim], #how much data\n",
    "            name = 'input'\n",
    "            )\n",
    "        ]\n",
    "    #targets 88 key, binary classification problem\n",
    "    with tf.name_scope('placeholder_targets'):\n",
    "        self.targets = [\n",
    "            tf.placeholder(tf.int32, #0 or 1\n",
    "                          [self.batch_size],\n",
    "                          name = 'target') \n",
    "        ]\n",
    "    #hidden state, dont konw what hidden state means/\n",
    "    with tf.name_scope ('placeholder_use_prev'):\n",
    "        self.use_prev = [\n",
    "            tf.placeholder(\n",
    "            tf.bool, \n",
    "            [],\n",
    "            name = 'use_prev')\n",
    "        ]\n",
    "    \n",
    "    #define our network\n",
    "    self.loop_processing = ModuleLoader.loop_processings.build_module(self.args)\n",
    "    def loop_rnn(prev, i):\n",
    "        next_input = self.loop_processing(prev)\n",
    "        return tf.cond(self.prev(i), lambda: next_input, lambda:self.inputs[i])\n",
    "    \n",
    "    #build seq2seq model\n",
    "    self.outputs, self.final_state = tf.nn.seq2seq.rnn_decoder(\n",
    "        decoder_inputs = self.inputs,\n",
    "        initial_state = None, \n",
    "        cell = KeyboardCell, \n",
    "        loop_function = loop_rnn)#because definedin keyboard cell\n",
    "    \n",
    "    #training step\n",
    "    #defining the loss function\n",
    "    loss_fct = tf.nn.seq2seq.sequence_loss(\n",
    "    self.outputs,\n",
    "    self.targets, \n",
    "    softmax_loss_function = tf.nn.softmax.cross_entropy_with_logits,\n",
    "    average_across_timesteps = True,\n",
    "    average_across_batch = True,\n",
    "    )\n",
    "    \n",
    "    #initialize the optimizer, minimize the loss\n",
    "    opt = tf.train.AdamOptimizer(\n",
    "        learning_rate = self.current_learning_rate,\n",
    "        beta1 = .9,\n",
    "        beta2 = .999,\n",
    "        epsilon = 1e-08)\n",
    "    \n",
    "    self.opt_op = opt.minimize(loss_fct)"
   ]
  }
 ],
 "metadata": {
  "kernelspec": {
   "display_name": "Python 3",
   "language": "python",
   "name": "python3"
  },
  "language_info": {
   "codemirror_mode": {
    "name": "ipython",
    "version": 3
   },
   "file_extension": ".py",
   "mimetype": "text/x-python",
   "name": "python",
   "nbconvert_exporter": "python",
   "pygments_lexer": "ipython3",
   "version": "3.7.3"
  }
 },
 "nbformat": 4,
 "nbformat_minor": 2
}
